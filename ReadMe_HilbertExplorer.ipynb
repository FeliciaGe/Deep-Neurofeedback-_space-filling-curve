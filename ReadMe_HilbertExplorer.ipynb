{
 "cells": [
  {
   "cell_type": "code",
   "execution_count": 7,
   "metadata": {},
   "outputs": [
    {
     "name": "stdout",
     "output_type": "stream",
     "text": [
      "current t :0.5\n",
      "next t    :0.5000000093132257\n",
      " \n",
      "current coordinate:[-0.25  0.   -1.   -1.   -1.   -1.   -1.   -1.   -1.   -1.  ]\n",
      "next coordinate:[ 0.    0.   -1.   -1.   -0.75 -0.75 -1.   -0.75 -1.   -1.  ]\n"
     ]
    }
   ],
   "source": [
    "from HilbertExplorer import HilbertExplorer\n",
    "\n",
    "#N: dimension of embedded space\n",
    "#l: size of space\n",
    "#explored space: [-l, +l]^N\n",
    "N = 10\n",
    "l = 1\n",
    "hilbert_curve = HilbertExplorer(N,l)\n",
    "\n",
    "#p: order of curve\n",
    "#t: position on the curve\n",
    "p = 3\n",
    "t = 0.5\n",
    "hilbert_curve._setCurve_(p, t)\n",
    "\n",
    "#v: velocity when tranversing on the curve\n",
    "v = 10\n",
    "t1 = hilbert_curve.getNextT(t, v)\n",
    "\n",
    "#get coordinates\n",
    "curCoord  = hilbert_curve.getCoord(t)\n",
    "nextCoord = hilbert_curve.getCoord(t1)\n",
    "\n",
    "print(\"current t :\" + str(t))\n",
    "print(\"next t    :\" + str(t1))\n",
    "print(\" \")\n",
    "print(\"current coordinate:\" + str(curCoord))\n",
    "print(\"next coordinate:\" + str(nextCoord))"
   ]
  },
  {
   "cell_type": "code",
   "execution_count": null,
   "metadata": {},
   "outputs": [],
   "source": []
  }
 ],
 "metadata": {
  "kernelspec": {
   "display_name": "Python 3",
   "language": "python",
   "name": "python3"
  },
  "language_info": {
   "codemirror_mode": {
    "name": "ipython",
    "version": 3
   },
   "file_extension": ".py",
   "mimetype": "text/x-python",
   "name": "python",
   "nbconvert_exporter": "python",
   "pygments_lexer": "ipython3",
   "version": "3.6.5"
  }
 },
 "nbformat": 4,
 "nbformat_minor": 2
}
