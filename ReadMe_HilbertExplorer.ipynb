{
 "cells": [
  {
   "cell_type": "code",
   "execution_count": 2,
   "metadata": {},
   "outputs": [
    {
     "name": "stdout",
     "output_type": "stream",
     "text": [
      "current t :0\n",
      " \n",
      "current coordinate:[-1. -1. -1. -1. -1. -1. -1. -1. -1. -1.]\n",
      "next coordinate:[-1.         -1.         -1.         -1.         -1.         -1.\n",
      " -1.         -0.71428571 -1.         -1.        ]\n"
     ]
    }
   ],
   "source": [
    "from HilbertExplorer import HilbertExplorer\n",
    "\n",
    "\n",
    "#N: dimension of embedded space\n",
    "#l: size of space\n",
    "#explored space: [-l, +l]^N\n",
    "N = 10\n",
    "l = 1\n",
    "hilbert_curve = HilbertExplorer(N,l)\n",
    "\n",
    "#p: order of curve\n",
    "#t: position on the curve\n",
    "p = 3\n",
    "t = 0\n",
    "hilbert_curve.setP(p)\n",
    "hilbert_curve.setT(t)\n",
    "\n",
    "#v: velocity when tranversing on the curve\n",
    "v = 1\n",
    "t1 = hilbert_curve.updateDist(v)\n",
    "\n",
    "#get coordinates\n",
    "curCoord  = hilbert_curve.getCoord(t)\n",
    "nextCoord = hilbert_curve.getNextCoord(v, t)\n",
    "\n",
    "print(\"current t :\" + str(t))\n",
    "print(\" \")\n",
    "print(\"current coordinate:\" + str(curCoord))\n",
    "print(\"next coordinate:\" + str(nextCoord))\n",
    "\n",
    "\n"
   ]
  },
  {
   "cell_type": "code",
   "execution_count": 3,
   "metadata": {},
   "outputs": [
    {
     "name": "stdout",
     "output_type": "stream",
     "text": [
      "[-1. -1. -1. -1. -1. -1. -1. -1. -1. -1.]\n",
      "[-1.         -1.         -1.         -1.         -1.         -1.\n",
      " -1.         -0.71428571 -1.         -1.        ]\n",
      "[-1.         -1.         -1.         -1.         -1.         -1.\n",
      " -0.71428571 -0.71428571 -1.         -1.        ]\n",
      "[-1.         -1.         -1.         -1.         -1.         -1.\n",
      " -0.71428571 -1.         -1.         -1.        ]\n",
      "[-1.         -1.         -1.         -1.         -1.         -0.71428571\n",
      " -0.71428571 -1.         -1.         -1.        ]\n",
      "[-1.         -1.         -1.         -1.         -1.         -0.71428571\n",
      " -0.71428571 -0.71428571 -1.         -1.        ]\n"
     ]
    }
   ],
   "source": [
    "v = 1\n",
    "\n",
    "hilbert_curve.setT(0)\n",
    "\n",
    "#when T is set, dist is saved in hilbert_curve.dist\n",
    "\n",
    "#directly output current distance(with t):\n",
    "cur_coord = hilbert_curve.getCoord(hilbert_curve.t)\n",
    "print(cur_coord)\n",
    "\n",
    "\n",
    "for i in range(5):\n",
    "    hilbert_curve.updateDist(v)\n",
    "    coord = hilbert_curve.getCoordFromDist(hilbert_curve.dist)\n",
    "    print(coord)\n",
    "    \n",
    "\n",
    "\n"
   ]
  },
  {
   "cell_type": "code",
   "execution_count": null,
   "metadata": {},
   "outputs": [],
   "source": []
  }
 ],
 "metadata": {
  "kernelspec": {
   "display_name": "Python 3",
   "language": "python",
   "name": "python3"
  },
  "language_info": {
   "codemirror_mode": {
    "name": "ipython",
    "version": 3
   },
   "file_extension": ".py",
   "mimetype": "text/x-python",
   "name": "python",
   "nbconvert_exporter": "python",
   "pygments_lexer": "ipython3",
   "version": "3.6.5"
  }
 },
 "nbformat": 4,
 "nbformat_minor": 2
}
